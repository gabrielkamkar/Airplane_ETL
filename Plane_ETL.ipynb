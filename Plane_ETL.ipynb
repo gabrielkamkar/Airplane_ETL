{
 "cells": [
  {
   "cell_type": "raw",
   "id": "b0c1bf01",
   "metadata": {},
   "source": [
    "# api: aviationstack\n",
    "# website: \n",
    "# 100 monthly requests"
   ]
  },
  {
   "cell_type": "code",
   "execution_count": 1,
   "id": "0cdfa0e6",
   "metadata": {},
   "outputs": [
    {
     "data": {
      "text/plain": [
       "\"\\nimport requests\\n\\nparams = {\\n  'access_key': 'a061387a0536804d9d063ad007cc5d63'\\n}\\n\\napi_result = requests.get('https://api.aviationstack.com/v1/flights', params)\\n\\napi_response = api_result.json()\\n\\nfor flight in api_response['results']:\\n    if (flight['live']['is_ground'] is False):\\n        print(u'%s flight %s from %s (%s) to %s (%s) is in the air.' % (\\n            flight['airline']['name'],\\n            flight['flight']['iata'],\\n            flight['departure']['airport'],\\n            flight['departure']['iata'],\\n            flight['arrival']['airport'],\\n            flight['arrival']['iata']))\\n\""
      ]
     },
     "execution_count": 1,
     "metadata": {},
     "output_type": "execute_result"
    }
   ],
   "source": [
    "'''\n",
    "import requests\n",
    "\n",
    "params = {\n",
    "  'access_key': 'a061387a0536804d9d063ad007cc5d63'\n",
    "}\n",
    "\n",
    "api_result = requests.get('https://api.aviationstack.com/v1/flights', params)\n",
    "\n",
    "api_response = api_result.json()\n",
    "\n",
    "for flight in api_response['results']:\n",
    "    if (flight['live']['is_ground'] is False):\n",
    "        print(u'%s flight %s from %s (%s) to %s (%s) is in the air.' % (\n",
    "            flight['airline']['name'],\n",
    "            flight['flight']['iata'],\n",
    "            flight['departure']['airport'],\n",
    "            flight['departure']['iata'],\n",
    "            flight['arrival']['airport'],\n",
    "            flight['arrival']['iata']))\n",
    "'''"
   ]
  },
  {
   "cell_type": "code",
   "execution_count": 1,
   "id": "9fc38088",
   "metadata": {},
   "outputs": [],
   "source": [
    "import requests\n",
    "import pandas as pd\n",
    "import sqlite3"
   ]
  },
  {
   "cell_type": "code",
   "execution_count": 2,
   "id": "754dee1d",
   "metadata": {},
   "outputs": [],
   "source": [
    "params = {\n",
    "    'access_key': 'a061387a0536804d9d063ad007cc5d63',\n",
    "    'limit':30\n",
    "}\n",
    "\n",
    "api_response = {'pagination':{'limit':0}} # formatting for below code"
   ]
  },
  {
   "cell_type": "code",
   "execution_count": 3,
   "id": "c1938a02",
   "metadata": {},
   "outputs": [],
   "source": [
    "# free api has connection errors sometimes\n",
    "\n",
    "while api_response['pagination']['limit'] != params['limit']:\n",
    "    try:\n",
    "        api_result = requests.get('http://api.aviationstack.com/v1/flights', params)\n",
    "        api_response = api_result.json()\n",
    "    except:\n",
    "        pass"
   ]
  },
  {
   "cell_type": "code",
   "execution_count": 14,
   "id": "e264a6be",
   "metadata": {},
   "outputs": [],
   "source": [
    "# export the unaltered file\n",
    "\n",
    "import json\n",
    "with open('airplane.json', 'w') as fp:\n",
    "    json.dump(api_response, fp)"
   ]
  },
  {
   "cell_type": "code",
   "execution_count": 18,
   "id": "e67cfb97",
   "metadata": {},
   "outputs": [
    {
     "data": {
      "text/plain": [
       "{'flight_date': '2023-05-09',\n",
       " 'flight_status': 'scheduled',\n",
       " 'departure': {'airport': 'Chongqing Jiangbei International',\n",
       "  'timezone': 'Asia/Shanghai',\n",
       "  'iata': 'CKG',\n",
       "  'icao': 'ZUCK',\n",
       "  'terminal': 'T2',\n",
       "  'gate': None,\n",
       "  'delay': None,\n",
       "  'scheduled': '2023-05-09T08:00:00+00:00',\n",
       "  'estimated': '2023-05-09T08:00:00+00:00',\n",
       "  'actual': None,\n",
       "  'estimated_runway': None,\n",
       "  'actual_runway': None},\n",
       " 'arrival': {'airport': 'Fuzhou',\n",
       "  'timezone': 'Asia/Shanghai',\n",
       "  'iata': 'FOC',\n",
       "  'icao': 'ZSFZ',\n",
       "  'terminal': '1',\n",
       "  'gate': None,\n",
       "  'baggage': None,\n",
       "  'delay': None,\n",
       "  'scheduled': '2023-05-09T10:10:00+00:00',\n",
       "  'estimated': '2023-05-09T10:10:00+00:00',\n",
       "  'actual': None,\n",
       "  'estimated_runway': None,\n",
       "  'actual_runway': None},\n",
       " 'airline': {'name': 'Sichuan Airlines', 'iata': '3U', 'icao': 'CSC'},\n",
       " 'flight': {'number': '8103',\n",
       "  'iata': '3U8103',\n",
       "  'icao': 'CSC8103',\n",
       "  'codeshared': None},\n",
       " 'aircraft': None,\n",
       " 'live': None}"
      ]
     },
     "execution_count": 18,
     "metadata": {},
     "output_type": "execute_result"
    }
   ],
   "source": [
    "total_data = api_response['data']\n",
    "total_data[0]"
   ]
  },
  {
   "cell_type": "code",
   "execution_count": 19,
   "id": "3f4f1592",
   "metadata": {},
   "outputs": [
    {
     "data": {
      "text/plain": [
       "dict_keys(['airport', 'timezone', 'iata', 'icao', 'terminal', 'gate', 'delay', 'scheduled', 'estimated', 'actual', 'estimated_runway', 'actual_runway'])"
      ]
     },
     "execution_count": 19,
     "metadata": {},
     "output_type": "execute_result"
    }
   ],
   "source": [
    "# get keys for the new data frame\n",
    "new_keys = total_data[0]['departure'].keys()\n",
    "new_keys\n",
    "# same for the arrival and departure\n"
   ]
  },
  {
   "cell_type": "code",
   "execution_count": 20,
   "id": "d6d19391",
   "metadata": {},
   "outputs": [],
   "source": [
    "# create dataframes to load data into \n",
    "arrival_df = pd.DataFrame(columns = new_keys)\n",
    "departure_df = pd.DataFrame(columns = new_keys)"
   ]
  },
  {
   "cell_type": "code",
   "execution_count": 21,
   "id": "f2d5830b",
   "metadata": {},
   "outputs": [
    {
     "data": {
      "text/html": [
       "<div>\n",
       "<style scoped>\n",
       "    .dataframe tbody tr th:only-of-type {\n",
       "        vertical-align: middle;\n",
       "    }\n",
       "\n",
       "    .dataframe tbody tr th {\n",
       "        vertical-align: top;\n",
       "    }\n",
       "\n",
       "    .dataframe thead th {\n",
       "        text-align: right;\n",
       "    }\n",
       "</style>\n",
       "<table border=\"1\" class=\"dataframe\">\n",
       "  <thead>\n",
       "    <tr style=\"text-align: right;\">\n",
       "      <th></th>\n",
       "      <th>airport</th>\n",
       "      <th>timezone</th>\n",
       "      <th>iata</th>\n",
       "      <th>icao</th>\n",
       "      <th>terminal</th>\n",
       "      <th>gate</th>\n",
       "      <th>delay</th>\n",
       "      <th>scheduled</th>\n",
       "      <th>estimated</th>\n",
       "      <th>actual</th>\n",
       "      <th>estimated_runway</th>\n",
       "      <th>actual_runway</th>\n",
       "    </tr>\n",
       "  </thead>\n",
       "  <tbody>\n",
       "  </tbody>\n",
       "</table>\n",
       "</div>"
      ],
      "text/plain": [
       "Empty DataFrame\n",
       "Columns: [airport, timezone, iata, icao, terminal, gate, delay, scheduled, estimated, actual, estimated_runway, actual_runway]\n",
       "Index: []"
      ]
     },
     "execution_count": 21,
     "metadata": {},
     "output_type": "execute_result"
    }
   ],
   "source": [
    "departure_df # now have data frames I can add the info to"
   ]
  },
  {
   "cell_type": "code",
   "execution_count": 10,
   "id": "29191fc6",
   "metadata": {},
   "outputs": [],
   "source": [
    "# can iterate through the items in the list, each corresponds to a flight, \n",
    "# and then we can add the data to the corresponding dataframes\n"
   ]
  },
  {
   "cell_type": "code",
   "execution_count": 22,
   "id": "d2a320de",
   "metadata": {},
   "outputs": [],
   "source": [
    "# created two \n",
    "    \n",
    "def update_departure(data,keys,df):\n",
    "    for plane in data:\n",
    "        dept_data = plane['departure']\n",
    "        dept_temp = pd.DataFrame(dept_data, columns=keys, index=[0])\n",
    "        df = pd.concat([df,dept_temp], ignore_index=True)\n",
    "    return df\n",
    "\n",
    "def update_arrival(data,keys,df):\n",
    "    for plane in data:\n",
    "        arr_data = plane['arrival']\n",
    "        arr_temp = pd.DataFrame(arr_data, columns=keys, index=[0])\n",
    "        df = pd.concat([df,arr_temp], ignore_index=True)\n",
    "    return df\n",
    "        \n",
    "        "
   ]
  },
  {
   "cell_type": "code",
   "execution_count": 23,
   "id": "349a29fe",
   "metadata": {},
   "outputs": [],
   "source": [
    "departure_df = update_departure(total_data, new_keys, departure_df)"
   ]
  },
  {
   "cell_type": "code",
   "execution_count": 24,
   "id": "97e0f0a7",
   "metadata": {},
   "outputs": [
    {
     "data": {
      "text/html": [
       "<div>\n",
       "<style scoped>\n",
       "    .dataframe tbody tr th:only-of-type {\n",
       "        vertical-align: middle;\n",
       "    }\n",
       "\n",
       "    .dataframe tbody tr th {\n",
       "        vertical-align: top;\n",
       "    }\n",
       "\n",
       "    .dataframe thead th {\n",
       "        text-align: right;\n",
       "    }\n",
       "</style>\n",
       "<table border=\"1\" class=\"dataframe\">\n",
       "  <thead>\n",
       "    <tr style=\"text-align: right;\">\n",
       "      <th></th>\n",
       "      <th>airport</th>\n",
       "      <th>timezone</th>\n",
       "      <th>iata</th>\n",
       "      <th>icao</th>\n",
       "      <th>terminal</th>\n",
       "      <th>gate</th>\n",
       "      <th>delay</th>\n",
       "      <th>scheduled</th>\n",
       "      <th>estimated</th>\n",
       "      <th>actual</th>\n",
       "      <th>estimated_runway</th>\n",
       "      <th>actual_runway</th>\n",
       "    </tr>\n",
       "  </thead>\n",
       "  <tbody>\n",
       "    <tr>\n",
       "      <th>0</th>\n",
       "      <td>Chongqing Jiangbei International</td>\n",
       "      <td>Asia/Shanghai</td>\n",
       "      <td>CKG</td>\n",
       "      <td>ZUCK</td>\n",
       "      <td>T2</td>\n",
       "      <td>NaN</td>\n",
       "      <td>NaN</td>\n",
       "      <td>2023-05-09T08:00:00+00:00</td>\n",
       "      <td>2023-05-09T08:00:00+00:00</td>\n",
       "      <td>NaN</td>\n",
       "      <td>NaN</td>\n",
       "      <td>NaN</td>\n",
       "    </tr>\n",
       "    <tr>\n",
       "      <th>1</th>\n",
       "      <td>Chongqing Jiangbei International</td>\n",
       "      <td>Asia/Shanghai</td>\n",
       "      <td>CKG</td>\n",
       "      <td>ZUCK</td>\n",
       "      <td>T2</td>\n",
       "      <td>NaN</td>\n",
       "      <td>NaN</td>\n",
       "      <td>2023-05-09T08:00:00+00:00</td>\n",
       "      <td>2023-05-09T08:00:00+00:00</td>\n",
       "      <td>NaN</td>\n",
       "      <td>NaN</td>\n",
       "      <td>NaN</td>\n",
       "    </tr>\n",
       "    <tr>\n",
       "      <th>2</th>\n",
       "      <td>Chongqing Jiangbei International</td>\n",
       "      <td>Asia/Shanghai</td>\n",
       "      <td>CKG</td>\n",
       "      <td>ZUCK</td>\n",
       "      <td>T2</td>\n",
       "      <td>NaN</td>\n",
       "      <td>NaN</td>\n",
       "      <td>2023-05-09T08:00:00+00:00</td>\n",
       "      <td>2023-05-09T08:00:00+00:00</td>\n",
       "      <td>NaN</td>\n",
       "      <td>NaN</td>\n",
       "      <td>NaN</td>\n",
       "    </tr>\n",
       "    <tr>\n",
       "      <th>3</th>\n",
       "      <td>Polonia</td>\n",
       "      <td>Asia/Jakarta</td>\n",
       "      <td>KNO</td>\n",
       "      <td>WIMM</td>\n",
       "      <td>NaN</td>\n",
       "      <td>NaN</td>\n",
       "      <td>NaN</td>\n",
       "      <td>2023-05-09T07:01:00+00:00</td>\n",
       "      <td>2023-05-09T07:01:00+00:00</td>\n",
       "      <td>NaN</td>\n",
       "      <td>NaN</td>\n",
       "      <td>NaN</td>\n",
       "    </tr>\n",
       "    <tr>\n",
       "      <th>4</th>\n",
       "      <td>Polonia</td>\n",
       "      <td>Asia/Jakarta</td>\n",
       "      <td>KNO</td>\n",
       "      <td>WIMM</td>\n",
       "      <td>NaN</td>\n",
       "      <td>NaN</td>\n",
       "      <td>NaN</td>\n",
       "      <td>2023-05-09T07:00:00+00:00</td>\n",
       "      <td>2023-05-09T07:00:00+00:00</td>\n",
       "      <td>NaN</td>\n",
       "      <td>NaN</td>\n",
       "      <td>NaN</td>\n",
       "    </tr>\n",
       "  </tbody>\n",
       "</table>\n",
       "</div>"
      ],
      "text/plain": [
       "                            airport       timezone iata  icao terminal gate  \\\n",
       "0  Chongqing Jiangbei International  Asia/Shanghai  CKG  ZUCK       T2  NaN   \n",
       "1  Chongqing Jiangbei International  Asia/Shanghai  CKG  ZUCK       T2  NaN   \n",
       "2  Chongqing Jiangbei International  Asia/Shanghai  CKG  ZUCK       T2  NaN   \n",
       "3                           Polonia   Asia/Jakarta  KNO  WIMM      NaN  NaN   \n",
       "4                           Polonia   Asia/Jakarta  KNO  WIMM      NaN  NaN   \n",
       "\n",
       "  delay                  scheduled                  estimated actual  \\\n",
       "0   NaN  2023-05-09T08:00:00+00:00  2023-05-09T08:00:00+00:00    NaN   \n",
       "1   NaN  2023-05-09T08:00:00+00:00  2023-05-09T08:00:00+00:00    NaN   \n",
       "2   NaN  2023-05-09T08:00:00+00:00  2023-05-09T08:00:00+00:00    NaN   \n",
       "3   NaN  2023-05-09T07:01:00+00:00  2023-05-09T07:01:00+00:00    NaN   \n",
       "4   NaN  2023-05-09T07:00:00+00:00  2023-05-09T07:00:00+00:00    NaN   \n",
       "\n",
       "  estimated_runway actual_runway  \n",
       "0              NaN           NaN  \n",
       "1              NaN           NaN  \n",
       "2              NaN           NaN  \n",
       "3              NaN           NaN  \n",
       "4              NaN           NaN  "
      ]
     },
     "execution_count": 24,
     "metadata": {},
     "output_type": "execute_result"
    }
   ],
   "source": [
    "departure_df.head()"
   ]
  },
  {
   "cell_type": "code",
   "execution_count": 25,
   "id": "7abf8f17",
   "metadata": {},
   "outputs": [
    {
     "name": "stdout",
     "output_type": "stream",
     "text": [
      "<class 'pandas.core.frame.DataFrame'>\n",
      "Index: 0 entries\n",
      "Data columns (total 12 columns):\n",
      " #   Column            Non-Null Count  Dtype \n",
      "---  ------            --------------  ----- \n",
      " 0   airport           0 non-null      object\n",
      " 1   timezone          0 non-null      object\n",
      " 2   iata              0 non-null      object\n",
      " 3   icao              0 non-null      object\n",
      " 4   terminal          0 non-null      object\n",
      " 5   gate              0 non-null      object\n",
      " 6   delay             0 non-null      object\n",
      " 7   scheduled         0 non-null      object\n",
      " 8   estimated         0 non-null      object\n",
      " 9   actual            0 non-null      object\n",
      " 10  estimated_runway  0 non-null      object\n",
      " 11  actual_runway     0 non-null      object\n",
      "dtypes: object(12)\n",
      "memory usage: 0.0+ bytes\n"
     ]
    }
   ],
   "source": [
    "arrival_df.info()"
   ]
  },
  {
   "cell_type": "code",
   "execution_count": 26,
   "id": "ade906ac",
   "metadata": {},
   "outputs": [],
   "source": [
    "arrival_df = update_arrival(total_data,new_keys,arrival_df)"
   ]
  },
  {
   "cell_type": "code",
   "execution_count": 27,
   "id": "9db64094",
   "metadata": {},
   "outputs": [
    {
     "data": {
      "text/html": [
       "<div>\n",
       "<style scoped>\n",
       "    .dataframe tbody tr th:only-of-type {\n",
       "        vertical-align: middle;\n",
       "    }\n",
       "\n",
       "    .dataframe tbody tr th {\n",
       "        vertical-align: top;\n",
       "    }\n",
       "\n",
       "    .dataframe thead th {\n",
       "        text-align: right;\n",
       "    }\n",
       "</style>\n",
       "<table border=\"1\" class=\"dataframe\">\n",
       "  <thead>\n",
       "    <tr style=\"text-align: right;\">\n",
       "      <th></th>\n",
       "      <th>airport</th>\n",
       "      <th>timezone</th>\n",
       "      <th>iata</th>\n",
       "      <th>icao</th>\n",
       "      <th>terminal</th>\n",
       "      <th>gate</th>\n",
       "      <th>delay</th>\n",
       "      <th>scheduled</th>\n",
       "      <th>estimated</th>\n",
       "      <th>actual</th>\n",
       "      <th>estimated_runway</th>\n",
       "      <th>actual_runway</th>\n",
       "    </tr>\n",
       "  </thead>\n",
       "  <tbody>\n",
       "    <tr>\n",
       "      <th>0</th>\n",
       "      <td>Fuzhou</td>\n",
       "      <td>Asia/Shanghai</td>\n",
       "      <td>FOC</td>\n",
       "      <td>ZSFZ</td>\n",
       "      <td>1</td>\n",
       "      <td>NaN</td>\n",
       "      <td>NaN</td>\n",
       "      <td>2023-05-09T10:10:00+00:00</td>\n",
       "      <td>2023-05-09T10:10:00+00:00</td>\n",
       "      <td>NaN</td>\n",
       "      <td>NaN</td>\n",
       "      <td>NaN</td>\n",
       "    </tr>\n",
       "    <tr>\n",
       "      <th>1</th>\n",
       "      <td>Fuzhou</td>\n",
       "      <td>Asia/Shanghai</td>\n",
       "      <td>FOC</td>\n",
       "      <td>ZSFZ</td>\n",
       "      <td>1</td>\n",
       "      <td>NaN</td>\n",
       "      <td>NaN</td>\n",
       "      <td>2023-05-09T10:10:00+00:00</td>\n",
       "      <td>2023-05-09T10:10:00+00:00</td>\n",
       "      <td>NaN</td>\n",
       "      <td>NaN</td>\n",
       "      <td>NaN</td>\n",
       "    </tr>\n",
       "    <tr>\n",
       "      <th>2</th>\n",
       "      <td>Fuzhou</td>\n",
       "      <td>Asia/Shanghai</td>\n",
       "      <td>FOC</td>\n",
       "      <td>ZSFZ</td>\n",
       "      <td>1</td>\n",
       "      <td>NaN</td>\n",
       "      <td>NaN</td>\n",
       "      <td>2023-05-09T10:10:00+00:00</td>\n",
       "      <td>2023-05-09T10:10:00+00:00</td>\n",
       "      <td>NaN</td>\n",
       "      <td>NaN</td>\n",
       "      <td>NaN</td>\n",
       "    </tr>\n",
       "    <tr>\n",
       "      <th>3</th>\n",
       "      <td>Binaka</td>\n",
       "      <td>Asia/Jakarta</td>\n",
       "      <td>GNS</td>\n",
       "      <td>WIMB</td>\n",
       "      <td>NaN</td>\n",
       "      <td>NaN</td>\n",
       "      <td>NaN</td>\n",
       "      <td>2023-05-09T08:00:00+00:00</td>\n",
       "      <td>2023-05-09T08:00:00+00:00</td>\n",
       "      <td>NaN</td>\n",
       "      <td>NaN</td>\n",
       "      <td>NaN</td>\n",
       "    </tr>\n",
       "    <tr>\n",
       "      <th>4</th>\n",
       "      <td>Sultan Syarif Kasim Ii</td>\n",
       "      <td>Asia/Jakarta</td>\n",
       "      <td>PKU</td>\n",
       "      <td>WIBB</td>\n",
       "      <td>NaN</td>\n",
       "      <td>NaN</td>\n",
       "      <td>NaN</td>\n",
       "      <td>2023-05-09T08:25:00+00:00</td>\n",
       "      <td>2023-05-09T08:25:00+00:00</td>\n",
       "      <td>NaN</td>\n",
       "      <td>NaN</td>\n",
       "      <td>NaN</td>\n",
       "    </tr>\n",
       "  </tbody>\n",
       "</table>\n",
       "</div>"
      ],
      "text/plain": [
       "                  airport       timezone iata  icao terminal gate delay  \\\n",
       "0                  Fuzhou  Asia/Shanghai  FOC  ZSFZ        1  NaN   NaN   \n",
       "1                  Fuzhou  Asia/Shanghai  FOC  ZSFZ        1  NaN   NaN   \n",
       "2                  Fuzhou  Asia/Shanghai  FOC  ZSFZ        1  NaN   NaN   \n",
       "3                  Binaka   Asia/Jakarta  GNS  WIMB      NaN  NaN   NaN   \n",
       "4  Sultan Syarif Kasim Ii   Asia/Jakarta  PKU  WIBB      NaN  NaN   NaN   \n",
       "\n",
       "                   scheduled                  estimated actual  \\\n",
       "0  2023-05-09T10:10:00+00:00  2023-05-09T10:10:00+00:00    NaN   \n",
       "1  2023-05-09T10:10:00+00:00  2023-05-09T10:10:00+00:00    NaN   \n",
       "2  2023-05-09T10:10:00+00:00  2023-05-09T10:10:00+00:00    NaN   \n",
       "3  2023-05-09T08:00:00+00:00  2023-05-09T08:00:00+00:00    NaN   \n",
       "4  2023-05-09T08:25:00+00:00  2023-05-09T08:25:00+00:00    NaN   \n",
       "\n",
       "  estimated_runway actual_runway  \n",
       "0              NaN           NaN  \n",
       "1              NaN           NaN  \n",
       "2              NaN           NaN  \n",
       "3              NaN           NaN  \n",
       "4              NaN           NaN  "
      ]
     },
     "execution_count": 27,
     "metadata": {},
     "output_type": "execute_result"
    }
   ],
   "source": [
    "arrival_df.head()"
   ]
  },
  {
   "cell_type": "code",
   "execution_count": 28,
   "id": "3eece58f",
   "metadata": {
    "scrolled": true
   },
   "outputs": [
    {
     "name": "stdout",
     "output_type": "stream",
     "text": [
      "<class 'pandas.core.frame.DataFrame'>\n",
      "RangeIndex: 30 entries, 0 to 29\n",
      "Data columns (total 12 columns):\n",
      " #   Column            Non-Null Count  Dtype \n",
      "---  ------            --------------  ----- \n",
      " 0   airport           30 non-null     object\n",
      " 1   timezone          30 non-null     object\n",
      " 2   iata              30 non-null     object\n",
      " 3   icao              30 non-null     object\n",
      " 4   terminal          12 non-null     object\n",
      " 5   gate              1 non-null      object\n",
      " 6   delay             0 non-null      object\n",
      " 7   scheduled         30 non-null     object\n",
      " 8   estimated         30 non-null     object\n",
      " 9   actual            0 non-null      object\n",
      " 10  estimated_runway  0 non-null      object\n",
      " 11  actual_runway     0 non-null      object\n",
      "dtypes: object(12)\n",
      "memory usage: 2.9+ KB\n"
     ]
    }
   ],
   "source": [
    "arrival_df.info()"
   ]
  },
  {
   "cell_type": "code",
   "execution_count": 29,
   "id": "003b3268",
   "metadata": {},
   "outputs": [],
   "source": [
    "# before we do any transformations, we will make a copy of the dataframes \n",
    "\n",
    "departure_copy = departure_df.copy(deep=True)\n",
    "arrival_copy = arrival_df.copy(deep=True)"
   ]
  },
  {
   "cell_type": "code",
   "execution_count": 30,
   "id": "565b0463",
   "metadata": {},
   "outputs": [],
   "source": [
    "depature_df = departure_copy\n",
    "arrival_df = arrival_copy"
   ]
  },
  {
   "cell_type": "code",
   "execution_count": 31,
   "id": "06ae9128",
   "metadata": {},
   "outputs": [],
   "source": [
    "# now what do I want to do to these dataframes?\n",
    "\n",
    "# 1: change dates to time and date in different columns x \n",
    "# 2: change \n",
    "# 3: remove NaN values x \n",
    "# 4: use sql to pull ? data\n",
    "\n",
    "# how to use sql"
   ]
  },
  {
   "cell_type": "code",
   "execution_count": 32,
   "id": "2e4de514",
   "metadata": {},
   "outputs": [
    {
     "data": {
      "text/plain": [
       "Index(['airport', 'timezone', 'iata', 'icao', 'terminal', 'gate', 'delay',\n",
       "       'scheduled', 'estimated', 'actual', 'estimated_runway',\n",
       "       'actual_runway'],\n",
       "      dtype='object')"
      ]
     },
     "execution_count": 32,
     "metadata": {},
     "output_type": "execute_result"
    }
   ],
   "source": [
    "arrival_df.columns"
   ]
  },
  {
   "cell_type": "code",
   "execution_count": 33,
   "id": "8bd68f47",
   "metadata": {},
   "outputs": [
    {
     "data": {
      "text/html": [
       "<div>\n",
       "<style scoped>\n",
       "    .dataframe tbody tr th:only-of-type {\n",
       "        vertical-align: middle;\n",
       "    }\n",
       "\n",
       "    .dataframe tbody tr th {\n",
       "        vertical-align: top;\n",
       "    }\n",
       "\n",
       "    .dataframe thead th {\n",
       "        text-align: right;\n",
       "    }\n",
       "</style>\n",
       "<table border=\"1\" class=\"dataframe\">\n",
       "  <thead>\n",
       "    <tr style=\"text-align: right;\">\n",
       "      <th></th>\n",
       "      <th>airport</th>\n",
       "      <th>timezone</th>\n",
       "      <th>iata</th>\n",
       "      <th>icao</th>\n",
       "      <th>terminal</th>\n",
       "      <th>gate</th>\n",
       "      <th>scheduled</th>\n",
       "      <th>estimated</th>\n",
       "    </tr>\n",
       "  </thead>\n",
       "  <tbody>\n",
       "    <tr>\n",
       "      <th>0</th>\n",
       "      <td>Fuzhou</td>\n",
       "      <td>Asia/Shanghai</td>\n",
       "      <td>FOC</td>\n",
       "      <td>ZSFZ</td>\n",
       "      <td>1</td>\n",
       "      <td>NaN</td>\n",
       "      <td>2023-05-09T10:10:00+00:00</td>\n",
       "      <td>2023-05-09T10:10:00+00:00</td>\n",
       "    </tr>\n",
       "    <tr>\n",
       "      <th>1</th>\n",
       "      <td>Fuzhou</td>\n",
       "      <td>Asia/Shanghai</td>\n",
       "      <td>FOC</td>\n",
       "      <td>ZSFZ</td>\n",
       "      <td>1</td>\n",
       "      <td>NaN</td>\n",
       "      <td>2023-05-09T10:10:00+00:00</td>\n",
       "      <td>2023-05-09T10:10:00+00:00</td>\n",
       "    </tr>\n",
       "    <tr>\n",
       "      <th>2</th>\n",
       "      <td>Fuzhou</td>\n",
       "      <td>Asia/Shanghai</td>\n",
       "      <td>FOC</td>\n",
       "      <td>ZSFZ</td>\n",
       "      <td>1</td>\n",
       "      <td>NaN</td>\n",
       "      <td>2023-05-09T10:10:00+00:00</td>\n",
       "      <td>2023-05-09T10:10:00+00:00</td>\n",
       "    </tr>\n",
       "    <tr>\n",
       "      <th>3</th>\n",
       "      <td>Binaka</td>\n",
       "      <td>Asia/Jakarta</td>\n",
       "      <td>GNS</td>\n",
       "      <td>WIMB</td>\n",
       "      <td>NaN</td>\n",
       "      <td>NaN</td>\n",
       "      <td>2023-05-09T08:00:00+00:00</td>\n",
       "      <td>2023-05-09T08:00:00+00:00</td>\n",
       "    </tr>\n",
       "    <tr>\n",
       "      <th>4</th>\n",
       "      <td>Sultan Syarif Kasim Ii</td>\n",
       "      <td>Asia/Jakarta</td>\n",
       "      <td>PKU</td>\n",
       "      <td>WIBB</td>\n",
       "      <td>NaN</td>\n",
       "      <td>NaN</td>\n",
       "      <td>2023-05-09T08:25:00+00:00</td>\n",
       "      <td>2023-05-09T08:25:00+00:00</td>\n",
       "    </tr>\n",
       "  </tbody>\n",
       "</table>\n",
       "</div>"
      ],
      "text/plain": [
       "                  airport       timezone iata  icao terminal gate  \\\n",
       "0                  Fuzhou  Asia/Shanghai  FOC  ZSFZ        1  NaN   \n",
       "1                  Fuzhou  Asia/Shanghai  FOC  ZSFZ        1  NaN   \n",
       "2                  Fuzhou  Asia/Shanghai  FOC  ZSFZ        1  NaN   \n",
       "3                  Binaka   Asia/Jakarta  GNS  WIMB      NaN  NaN   \n",
       "4  Sultan Syarif Kasim Ii   Asia/Jakarta  PKU  WIBB      NaN  NaN   \n",
       "\n",
       "                   scheduled                  estimated  \n",
       "0  2023-05-09T10:10:00+00:00  2023-05-09T10:10:00+00:00  \n",
       "1  2023-05-09T10:10:00+00:00  2023-05-09T10:10:00+00:00  \n",
       "2  2023-05-09T10:10:00+00:00  2023-05-09T10:10:00+00:00  \n",
       "3  2023-05-09T08:00:00+00:00  2023-05-09T08:00:00+00:00  \n",
       "4  2023-05-09T08:25:00+00:00  2023-05-09T08:25:00+00:00  "
      ]
     },
     "execution_count": 33,
     "metadata": {},
     "output_type": "execute_result"
    }
   ],
   "source": [
    "# 1: drop all the null columns with no information\n",
    "\n",
    "departure_df = departure_df.dropna(axis=1,how='all')\n",
    "arrival_df = arrival_df.dropna(axis=1,how='all')\n",
    "\n",
    "arrival_df.head()\n",
    "# we only have the airport, timezone, iata & icao codes, termial, gate, and scheduled/estimated times left"
   ]
  },
  {
   "cell_type": "code",
   "execution_count": 34,
   "id": "0a074ed8",
   "metadata": {},
   "outputs": [],
   "source": [
    "# 2: change date/times\n",
    "\n",
    "# scheduled and estiamted: turn into two different columns each\n",
    "# the date (dd-mm-yyy) and time (hh:mm:ss) get rid of anything smaller than a second\n"
   ]
  },
  {
   "cell_type": "code",
   "execution_count": 35,
   "id": "8bbacb6b",
   "metadata": {},
   "outputs": [
    {
     "data": {
      "text/plain": [
       "'\\nISO 8601 represents date and time by starting with the year, \\nfollowed by the month, the day, the hour, the minutes, seconds and milliseconds. \\nFor example, 2020-07-10 15:00:00.000, represents the 10th of July 2020 at 3 p.m. \\n(in local time as there is no time zone offset specified—more on that below)\\n'"
      ]
     },
     "execution_count": 35,
     "metadata": {},
     "output_type": "execute_result"
    }
   ],
   "source": [
    "'''\n",
    "ISO 8601 represents date and time by starting with the year, \n",
    "followed by the month, the day, the hour, the minutes, seconds and milliseconds. \n",
    "For example, 2020-07-10 15:00:00.000, represents the 10th of July 2020 at 3 p.m. \n",
    "(in local time as there is no time zone offset specified—more on that below)\n",
    "'''"
   ]
  },
  {
   "cell_type": "code",
   "execution_count": 36,
   "id": "32468a85",
   "metadata": {
    "scrolled": true
   },
   "outputs": [
    {
     "name": "stderr",
     "output_type": "stream",
     "text": [
      "<ipython-input-36-92773c2a0bc2>:7: SettingWithCopyWarning: \n",
      "A value is trying to be set on a copy of a slice from a DataFrame.\n",
      "Try using .loc[row_indexer,col_indexer] = value instead\n",
      "\n",
      "See the caveats in the documentation: https://pandas.pydata.org/pandas-docs/stable/user_guide/indexing.html#returning-a-view-versus-a-copy\n",
      "  arrival_df[['scheduled_date', 'scheduled_time']] = arrival_df[\"scheduled\"].apply(lambda x: pd.Series(str(x).split(\"T\")))\n",
      "<ipython-input-36-92773c2a0bc2>:7: SettingWithCopyWarning: \n",
      "A value is trying to be set on a copy of a slice from a DataFrame.\n",
      "Try using .loc[row_indexer,col_indexer] = value instead\n",
      "\n",
      "See the caveats in the documentation: https://pandas.pydata.org/pandas-docs/stable/user_guide/indexing.html#returning-a-view-versus-a-copy\n",
      "  arrival_df[['scheduled_date', 'scheduled_time']] = arrival_df[\"scheduled\"].apply(lambda x: pd.Series(str(x).split(\"T\")))\n",
      "<ipython-input-36-92773c2a0bc2>:8: SettingWithCopyWarning: \n",
      "A value is trying to be set on a copy of a slice from a DataFrame.\n",
      "Try using .loc[row_indexer,col_indexer] = value instead\n",
      "\n",
      "See the caveats in the documentation: https://pandas.pydata.org/pandas-docs/stable/user_guide/indexing.html#returning-a-view-versus-a-copy\n",
      "  arrival_df[['estimated_date', 'estimated_time']] = arrival_df[\"estimated\"].apply(lambda x: pd.Series(str(x).split(\"T\")))\n"
     ]
    }
   ],
   "source": [
    "# create two new columns containing the time and date of the scheduled/estimated arrival/departure\n",
    "\n",
    "# split the shecduled and estimated columns into sheduled_date, scheduled_time, estimated_date, estimated_time\n",
    "departure_df[['scheduled_date', 'scheduled_time']] = departure_df[\"scheduled\"].apply(lambda x: pd.Series(str(x).split(\"T\")))\n",
    "departure_df[['estimated_date', 'estimated_time']] = departure_df[\"estimated\"].apply(lambda x: pd.Series(str(x).split(\"T\")))\n",
    "\n",
    "arrival_df[['scheduled_date', 'scheduled_time']] = arrival_df[\"scheduled\"].apply(lambda x: pd.Series(str(x).split(\"T\")))\n",
    "arrival_df[['estimated_date', 'estimated_time']] = arrival_df[\"estimated\"].apply(lambda x: pd.Series(str(x).split(\"T\")))"
   ]
  },
  {
   "cell_type": "markdown",
   "id": "53206c6e",
   "metadata": {},
   "source": [
    "See the caveats in the documentation: https://pandas.pydata.org/pandas-docs/stable/user_guide/indexing.html#returning-a-view-versus-a-copy\n",
    "  arrival_df[['scheduled_date', 'scheduled_time']] = arrival_df[\"scheduled\"].apply(lambda x: pd.Series(str(x).split(\"T\")))\n",
    "<ipython-input-36-92773c2a0bc2>:8: SettingWithCopyWarning: \n",
    "A value is trying to be set on a copy of a slice from a DataFrame.\n",
    "Try using .loc[row_indexer,col_indexer] = value instead"
   ]
  },
  {
   "cell_type": "code",
   "execution_count": 37,
   "id": "5a91adef",
   "metadata": {},
   "outputs": [],
   "source": [
    "# drop the miliseconds\n",
    "departure_df['scheduled_time'] = departure_df['scheduled_time'].apply(lambda x: str(x)[:8])\n",
    "departure_df['estimated_time'] = departure_df['estimated_time'].apply(lambda x: str(x)[:8])\n",
    "\n",
    "arrival_df['scheduled_time'] = arrival_df['scheduled_time'].apply(lambda x: str(x)[:8])\n",
    "arrival_df['estimated_time'] = arrival_df['estimated_time'].apply(lambda x: str(x)[:8])\n",
    "\n"
   ]
  },
  {
   "cell_type": "code",
   "execution_count": 38,
   "id": "fa9b280b",
   "metadata": {},
   "outputs": [],
   "source": [
    "# drop the old columns we no longer need\n",
    "\n",
    "departure_df = departure_df.drop(['scheduled','estimated'], axis=1)\n",
    "arrival_df = arrival_df.drop(['scheduled','estimated'], axis=1)"
   ]
  },
  {
   "cell_type": "code",
   "execution_count": 39,
   "id": "8424bf87",
   "metadata": {},
   "outputs": [
    {
     "data": {
      "text/html": [
       "<div>\n",
       "<style scoped>\n",
       "    .dataframe tbody tr th:only-of-type {\n",
       "        vertical-align: middle;\n",
       "    }\n",
       "\n",
       "    .dataframe tbody tr th {\n",
       "        vertical-align: top;\n",
       "    }\n",
       "\n",
       "    .dataframe thead th {\n",
       "        text-align: right;\n",
       "    }\n",
       "</style>\n",
       "<table border=\"1\" class=\"dataframe\">\n",
       "  <thead>\n",
       "    <tr style=\"text-align: right;\">\n",
       "      <th></th>\n",
       "      <th>airport</th>\n",
       "      <th>timezone</th>\n",
       "      <th>iata</th>\n",
       "      <th>icao</th>\n",
       "      <th>terminal</th>\n",
       "      <th>gate</th>\n",
       "      <th>scheduled_date</th>\n",
       "      <th>scheduled_time</th>\n",
       "      <th>estimated_date</th>\n",
       "      <th>estimated_time</th>\n",
       "    </tr>\n",
       "  </thead>\n",
       "  <tbody>\n",
       "    <tr>\n",
       "      <th>0</th>\n",
       "      <td>Fuzhou</td>\n",
       "      <td>Asia/Shanghai</td>\n",
       "      <td>FOC</td>\n",
       "      <td>ZSFZ</td>\n",
       "      <td>1</td>\n",
       "      <td>NaN</td>\n",
       "      <td>2023-05-09</td>\n",
       "      <td>10:10:00</td>\n",
       "      <td>2023-05-09</td>\n",
       "      <td>10:10:00</td>\n",
       "    </tr>\n",
       "    <tr>\n",
       "      <th>1</th>\n",
       "      <td>Fuzhou</td>\n",
       "      <td>Asia/Shanghai</td>\n",
       "      <td>FOC</td>\n",
       "      <td>ZSFZ</td>\n",
       "      <td>1</td>\n",
       "      <td>NaN</td>\n",
       "      <td>2023-05-09</td>\n",
       "      <td>10:10:00</td>\n",
       "      <td>2023-05-09</td>\n",
       "      <td>10:10:00</td>\n",
       "    </tr>\n",
       "    <tr>\n",
       "      <th>2</th>\n",
       "      <td>Fuzhou</td>\n",
       "      <td>Asia/Shanghai</td>\n",
       "      <td>FOC</td>\n",
       "      <td>ZSFZ</td>\n",
       "      <td>1</td>\n",
       "      <td>NaN</td>\n",
       "      <td>2023-05-09</td>\n",
       "      <td>10:10:00</td>\n",
       "      <td>2023-05-09</td>\n",
       "      <td>10:10:00</td>\n",
       "    </tr>\n",
       "    <tr>\n",
       "      <th>3</th>\n",
       "      <td>Binaka</td>\n",
       "      <td>Asia/Jakarta</td>\n",
       "      <td>GNS</td>\n",
       "      <td>WIMB</td>\n",
       "      <td>NaN</td>\n",
       "      <td>NaN</td>\n",
       "      <td>2023-05-09</td>\n",
       "      <td>08:00:00</td>\n",
       "      <td>2023-05-09</td>\n",
       "      <td>08:00:00</td>\n",
       "    </tr>\n",
       "    <tr>\n",
       "      <th>4</th>\n",
       "      <td>Sultan Syarif Kasim Ii</td>\n",
       "      <td>Asia/Jakarta</td>\n",
       "      <td>PKU</td>\n",
       "      <td>WIBB</td>\n",
       "      <td>NaN</td>\n",
       "      <td>NaN</td>\n",
       "      <td>2023-05-09</td>\n",
       "      <td>08:25:00</td>\n",
       "      <td>2023-05-09</td>\n",
       "      <td>08:25:00</td>\n",
       "    </tr>\n",
       "  </tbody>\n",
       "</table>\n",
       "</div>"
      ],
      "text/plain": [
       "                  airport       timezone iata  icao terminal gate  \\\n",
       "0                  Fuzhou  Asia/Shanghai  FOC  ZSFZ        1  NaN   \n",
       "1                  Fuzhou  Asia/Shanghai  FOC  ZSFZ        1  NaN   \n",
       "2                  Fuzhou  Asia/Shanghai  FOC  ZSFZ        1  NaN   \n",
       "3                  Binaka   Asia/Jakarta  GNS  WIMB      NaN  NaN   \n",
       "4  Sultan Syarif Kasim Ii   Asia/Jakarta  PKU  WIBB      NaN  NaN   \n",
       "\n",
       "  scheduled_date scheduled_time estimated_date estimated_time  \n",
       "0     2023-05-09       10:10:00     2023-05-09       10:10:00  \n",
       "1     2023-05-09       10:10:00     2023-05-09       10:10:00  \n",
       "2     2023-05-09       10:10:00     2023-05-09       10:10:00  \n",
       "3     2023-05-09       08:00:00     2023-05-09       08:00:00  \n",
       "4     2023-05-09       08:25:00     2023-05-09       08:25:00  "
      ]
     },
     "execution_count": 39,
     "metadata": {},
     "output_type": "execute_result"
    }
   ],
   "source": [
    "arrival_df.head()"
   ]
  },
  {
   "cell_type": "code",
   "execution_count": 41,
   "id": "3ab5662f",
   "metadata": {},
   "outputs": [
    {
     "ename": "TypeError",
     "evalue": "<class 'datetime.time'> is not convertible to datetime",
     "output_type": "error",
     "traceback": [
      "\u001b[1;31m---------------------------------------------------------------------------\u001b[0m",
      "\u001b[1;31mTypeError\u001b[0m                                 Traceback (most recent call last)",
      "\u001b[1;32m<ipython-input-41-fc733f7258cc>\u001b[0m in \u001b[0;36m<module>\u001b[1;34m\u001b[0m\n\u001b[0;32m      2\u001b[0m \u001b[1;33m\u001b[0m\u001b[0m\n\u001b[0;32m      3\u001b[0m \u001b[1;31m# times\u001b[0m\u001b[1;33m\u001b[0m\u001b[1;33m\u001b[0m\u001b[1;33m\u001b[0m\u001b[0m\n\u001b[1;32m----> 4\u001b[1;33m \u001b[0mdeparture_df\u001b[0m\u001b[1;33m[\u001b[0m\u001b[1;34m'scheduled_time'\u001b[0m\u001b[1;33m]\u001b[0m \u001b[1;33m=\u001b[0m \u001b[0mpd\u001b[0m\u001b[1;33m.\u001b[0m\u001b[0mto_datetime\u001b[0m\u001b[1;33m(\u001b[0m\u001b[0mdeparture_df\u001b[0m\u001b[1;33m[\u001b[0m\u001b[1;34m'scheduled_time'\u001b[0m\u001b[1;33m]\u001b[0m\u001b[1;33m)\u001b[0m\u001b[1;33m.\u001b[0m\u001b[0mdt\u001b[0m\u001b[1;33m.\u001b[0m\u001b[0mtime\u001b[0m\u001b[1;33m\u001b[0m\u001b[1;33m\u001b[0m\u001b[0m\n\u001b[0m\u001b[0;32m      5\u001b[0m \u001b[0mdeparture_df\u001b[0m\u001b[1;33m[\u001b[0m\u001b[1;34m'estimated_time'\u001b[0m\u001b[1;33m]\u001b[0m \u001b[1;33m=\u001b[0m \u001b[0mpd\u001b[0m\u001b[1;33m.\u001b[0m\u001b[0mto_datetime\u001b[0m\u001b[1;33m(\u001b[0m\u001b[0mdeparture_df\u001b[0m\u001b[1;33m[\u001b[0m\u001b[1;34m'estimated_time'\u001b[0m\u001b[1;33m]\u001b[0m\u001b[1;33m)\u001b[0m\u001b[1;33m.\u001b[0m\u001b[0mdt\u001b[0m\u001b[1;33m.\u001b[0m\u001b[0mtime\u001b[0m\u001b[1;33m\u001b[0m\u001b[1;33m\u001b[0m\u001b[0m\n\u001b[0;32m      6\u001b[0m \u001b[0marrival_df\u001b[0m\u001b[1;33m[\u001b[0m\u001b[1;34m'scheduled_time'\u001b[0m\u001b[1;33m]\u001b[0m \u001b[1;33m=\u001b[0m \u001b[0mpd\u001b[0m\u001b[1;33m.\u001b[0m\u001b[0mto_datetime\u001b[0m\u001b[1;33m(\u001b[0m\u001b[0marrival_df\u001b[0m\u001b[1;33m[\u001b[0m\u001b[1;34m'scheduled_time'\u001b[0m\u001b[1;33m]\u001b[0m\u001b[1;33m)\u001b[0m\u001b[1;33m.\u001b[0m\u001b[0mdt\u001b[0m\u001b[1;33m.\u001b[0m\u001b[0mtime\u001b[0m\u001b[1;33m\u001b[0m\u001b[1;33m\u001b[0m\u001b[0m\n",
      "\u001b[1;32mc:\\users\\kamka\\appdata\\local\\programs\\python\\python39\\lib\\site-packages\\pandas\\core\\tools\\datetimes.py\u001b[0m in \u001b[0;36mto_datetime\u001b[1;34m(arg, errors, dayfirst, yearfirst, utc, format, exact, unit, infer_datetime_format, origin, cache)\u001b[0m\n\u001b[0;32m   1066\u001b[0m             \u001b[0mresult\u001b[0m \u001b[1;33m=\u001b[0m \u001b[0marg\u001b[0m\u001b[1;33m.\u001b[0m\u001b[0mmap\u001b[0m\u001b[1;33m(\u001b[0m\u001b[0mcache_array\u001b[0m\u001b[1;33m)\u001b[0m\u001b[1;33m\u001b[0m\u001b[1;33m\u001b[0m\u001b[0m\n\u001b[0;32m   1067\u001b[0m         \u001b[1;32melse\u001b[0m\u001b[1;33m:\u001b[0m\u001b[1;33m\u001b[0m\u001b[1;33m\u001b[0m\u001b[0m\n\u001b[1;32m-> 1068\u001b[1;33m             \u001b[0mvalues\u001b[0m \u001b[1;33m=\u001b[0m \u001b[0mconvert_listlike\u001b[0m\u001b[1;33m(\u001b[0m\u001b[0marg\u001b[0m\u001b[1;33m.\u001b[0m\u001b[0m_values\u001b[0m\u001b[1;33m,\u001b[0m \u001b[0mformat\u001b[0m\u001b[1;33m)\u001b[0m\u001b[1;33m\u001b[0m\u001b[1;33m\u001b[0m\u001b[0m\n\u001b[0m\u001b[0;32m   1069\u001b[0m             \u001b[0mresult\u001b[0m \u001b[1;33m=\u001b[0m \u001b[0marg\u001b[0m\u001b[1;33m.\u001b[0m\u001b[0m_constructor\u001b[0m\u001b[1;33m(\u001b[0m\u001b[0mvalues\u001b[0m\u001b[1;33m,\u001b[0m \u001b[0mindex\u001b[0m\u001b[1;33m=\u001b[0m\u001b[0marg\u001b[0m\u001b[1;33m.\u001b[0m\u001b[0mindex\u001b[0m\u001b[1;33m,\u001b[0m \u001b[0mname\u001b[0m\u001b[1;33m=\u001b[0m\u001b[0marg\u001b[0m\u001b[1;33m.\u001b[0m\u001b[0mname\u001b[0m\u001b[1;33m)\u001b[0m\u001b[1;33m\u001b[0m\u001b[1;33m\u001b[0m\u001b[0m\n\u001b[0;32m   1070\u001b[0m     \u001b[1;32melif\u001b[0m \u001b[0misinstance\u001b[0m\u001b[1;33m(\u001b[0m\u001b[0marg\u001b[0m\u001b[1;33m,\u001b[0m \u001b[1;33m(\u001b[0m\u001b[0mABCDataFrame\u001b[0m\u001b[1;33m,\u001b[0m \u001b[0mabc\u001b[0m\u001b[1;33m.\u001b[0m\u001b[0mMutableMapping\u001b[0m\u001b[1;33m)\u001b[0m\u001b[1;33m)\u001b[0m\u001b[1;33m:\u001b[0m\u001b[1;33m\u001b[0m\u001b[1;33m\u001b[0m\u001b[0m\n",
      "\u001b[1;32mc:\\users\\kamka\\appdata\\local\\programs\\python\\python39\\lib\\site-packages\\pandas\\core\\tools\\datetimes.py\u001b[0m in \u001b[0;36m_convert_listlike_datetimes\u001b[1;34m(arg, format, name, tz, unit, errors, infer_datetime_format, dayfirst, yearfirst, exact)\u001b[0m\n\u001b[0;32m    436\u001b[0m     \u001b[1;32massert\u001b[0m \u001b[0mformat\u001b[0m \u001b[1;32mis\u001b[0m \u001b[1;32mNone\u001b[0m \u001b[1;32mor\u001b[0m \u001b[0minfer_datetime_format\u001b[0m\u001b[1;33m\u001b[0m\u001b[1;33m\u001b[0m\u001b[0m\n\u001b[0;32m    437\u001b[0m     \u001b[0mutc\u001b[0m \u001b[1;33m=\u001b[0m \u001b[0mtz\u001b[0m \u001b[1;33m==\u001b[0m \u001b[1;34m\"utc\"\u001b[0m\u001b[1;33m\u001b[0m\u001b[1;33m\u001b[0m\u001b[0m\n\u001b[1;32m--> 438\u001b[1;33m     result, tz_parsed = objects_to_datetime64ns(\n\u001b[0m\u001b[0;32m    439\u001b[0m         \u001b[0marg\u001b[0m\u001b[1;33m,\u001b[0m\u001b[1;33m\u001b[0m\u001b[1;33m\u001b[0m\u001b[0m\n\u001b[0;32m    440\u001b[0m         \u001b[0mdayfirst\u001b[0m\u001b[1;33m=\u001b[0m\u001b[0mdayfirst\u001b[0m\u001b[1;33m,\u001b[0m\u001b[1;33m\u001b[0m\u001b[1;33m\u001b[0m\u001b[0m\n",
      "\u001b[1;32mc:\\users\\kamka\\appdata\\local\\programs\\python\\python39\\lib\\site-packages\\pandas\\core\\arrays\\datetimes.py\u001b[0m in \u001b[0;36mobjects_to_datetime64ns\u001b[1;34m(data, dayfirst, yearfirst, utc, errors, require_iso8601, allow_object, allow_mixed)\u001b[0m\n\u001b[0;32m   2175\u001b[0m     \u001b[0morder\u001b[0m\u001b[1;33m:\u001b[0m \u001b[0mLiteral\u001b[0m\u001b[1;33m[\u001b[0m\u001b[1;34m\"F\"\u001b[0m\u001b[1;33m,\u001b[0m \u001b[1;34m\"C\"\u001b[0m\u001b[1;33m]\u001b[0m \u001b[1;33m=\u001b[0m \u001b[1;34m\"F\"\u001b[0m \u001b[1;32mif\u001b[0m \u001b[0mflags\u001b[0m\u001b[1;33m.\u001b[0m\u001b[0mf_contiguous\u001b[0m \u001b[1;32melse\u001b[0m \u001b[1;34m\"C\"\u001b[0m\u001b[1;33m\u001b[0m\u001b[1;33m\u001b[0m\u001b[0m\n\u001b[0;32m   2176\u001b[0m     \u001b[1;32mtry\u001b[0m\u001b[1;33m:\u001b[0m\u001b[1;33m\u001b[0m\u001b[1;33m\u001b[0m\u001b[0m\n\u001b[1;32m-> 2177\u001b[1;33m         result, tz_parsed = tslib.array_to_datetime(\n\u001b[0m\u001b[0;32m   2178\u001b[0m             \u001b[0mdata\u001b[0m\u001b[1;33m.\u001b[0m\u001b[0mravel\u001b[0m\u001b[1;33m(\u001b[0m\u001b[1;34m\"K\"\u001b[0m\u001b[1;33m)\u001b[0m\u001b[1;33m,\u001b[0m\u001b[1;33m\u001b[0m\u001b[1;33m\u001b[0m\u001b[0m\n\u001b[0;32m   2179\u001b[0m             \u001b[0merrors\u001b[0m\u001b[1;33m=\u001b[0m\u001b[0merrors\u001b[0m\u001b[1;33m,\u001b[0m\u001b[1;33m\u001b[0m\u001b[1;33m\u001b[0m\u001b[0m\n",
      "\u001b[1;32mc:\\users\\kamka\\appdata\\local\\programs\\python\\python39\\lib\\site-packages\\pandas\\_libs\\tslib.pyx\u001b[0m in \u001b[0;36mpandas._libs.tslib.array_to_datetime\u001b[1;34m()\u001b[0m\n",
      "\u001b[1;32mc:\\users\\kamka\\appdata\\local\\programs\\python\\python39\\lib\\site-packages\\pandas\\_libs\\tslib.pyx\u001b[0m in \u001b[0;36mpandas._libs.tslib.array_to_datetime\u001b[1;34m()\u001b[0m\n",
      "\u001b[1;32mc:\\users\\kamka\\appdata\\local\\programs\\python\\python39\\lib\\site-packages\\pandas\\_libs\\tslib.pyx\u001b[0m in \u001b[0;36mpandas._libs.tslib._array_to_datetime_object\u001b[1;34m()\u001b[0m\n",
      "\u001b[1;32mc:\\users\\kamka\\appdata\\local\\programs\\python\\python39\\lib\\site-packages\\pandas\\_libs\\tslib.pyx\u001b[0m in \u001b[0;36mpandas._libs.tslib.array_to_datetime\u001b[1;34m()\u001b[0m\n",
      "\u001b[1;31mTypeError\u001b[0m: <class 'datetime.time'> is not convertible to datetime"
     ]
    }
   ],
   "source": [
    "# transform the new column's values into datetime objects rather than strings\n",
    "\n",
    "# times\n",
    "departure_df['scheduled_time'] = pd.to_datetime(departure_df['scheduled_time']).dt.time\n",
    "departure_df['estimated_time'] = pd.to_datetime(departure_df['estimated_time']).dt.time\n",
    "arrival_df['scheduled_time'] = pd.to_datetime(arrival_df['scheduled_time']).dt.time\n",
    "arrival_df['estimated_time'] = pd.to_datetime(arrival_df['estimated_time']).dt.time\n",
    "\n",
    "# dates\n",
    "departure_df['scheduled_date'] = pd.to_datetime(departure_df['scheduled_date']).dt.date\n",
    "departure_df['estimated_date'] = pd.to_datetime(departure_df['estimated_date']).dt.date\n",
    "arrival_df['scheduled_date'] = pd.to_datetime(arrival_df['scheduled_date']).dt.date\n",
    "arrival_df['estimated_date'] = pd.to_datetime(arrival_df['estimated_date']).dt.date"
   ]
  },
  {
   "cell_type": "code",
   "execution_count": 49,
   "id": "d44607ff",
   "metadata": {},
   "outputs": [
    {
     "data": {
      "text/html": [
       "<div>\n",
       "<style scoped>\n",
       "    .dataframe tbody tr th:only-of-type {\n",
       "        vertical-align: middle;\n",
       "    }\n",
       "\n",
       "    .dataframe tbody tr th {\n",
       "        vertical-align: top;\n",
       "    }\n",
       "\n",
       "    .dataframe thead th {\n",
       "        text-align: right;\n",
       "    }\n",
       "</style>\n",
       "<table border=\"1\" class=\"dataframe\">\n",
       "  <thead>\n",
       "    <tr style=\"text-align: right;\">\n",
       "      <th></th>\n",
       "      <th>airport</th>\n",
       "      <th>timezone</th>\n",
       "      <th>iata</th>\n",
       "      <th>icao</th>\n",
       "      <th>terminal</th>\n",
       "      <th>gate</th>\n",
       "      <th>scheduled_date</th>\n",
       "      <th>scheduled_time</th>\n",
       "      <th>estimated_date</th>\n",
       "      <th>estimated_time</th>\n",
       "    </tr>\n",
       "  </thead>\n",
       "  <tbody>\n",
       "    <tr>\n",
       "      <th>0</th>\n",
       "      <td>Fuzhou</td>\n",
       "      <td>Asia/Shanghai</td>\n",
       "      <td>FOC</td>\n",
       "      <td>ZSFZ</td>\n",
       "      <td>1</td>\n",
       "      <td>NaN</td>\n",
       "      <td>2023-05-09</td>\n",
       "      <td>10:10:00</td>\n",
       "      <td>2023-05-09</td>\n",
       "      <td>10:10:00</td>\n",
       "    </tr>\n",
       "    <tr>\n",
       "      <th>1</th>\n",
       "      <td>Fuzhou</td>\n",
       "      <td>Asia/Shanghai</td>\n",
       "      <td>FOC</td>\n",
       "      <td>ZSFZ</td>\n",
       "      <td>1</td>\n",
       "      <td>NaN</td>\n",
       "      <td>2023-05-09</td>\n",
       "      <td>10:10:00</td>\n",
       "      <td>2023-05-09</td>\n",
       "      <td>10:10:00</td>\n",
       "    </tr>\n",
       "    <tr>\n",
       "      <th>2</th>\n",
       "      <td>Fuzhou</td>\n",
       "      <td>Asia/Shanghai</td>\n",
       "      <td>FOC</td>\n",
       "      <td>ZSFZ</td>\n",
       "      <td>1</td>\n",
       "      <td>NaN</td>\n",
       "      <td>2023-05-09</td>\n",
       "      <td>10:10:00</td>\n",
       "      <td>2023-05-09</td>\n",
       "      <td>10:10:00</td>\n",
       "    </tr>\n",
       "    <tr>\n",
       "      <th>3</th>\n",
       "      <td>Binaka</td>\n",
       "      <td>Asia/Jakarta</td>\n",
       "      <td>GNS</td>\n",
       "      <td>WIMB</td>\n",
       "      <td>NaN</td>\n",
       "      <td>NaN</td>\n",
       "      <td>2023-05-09</td>\n",
       "      <td>08:00:00</td>\n",
       "      <td>2023-05-09</td>\n",
       "      <td>08:00:00</td>\n",
       "    </tr>\n",
       "    <tr>\n",
       "      <th>4</th>\n",
       "      <td>Sultan Syarif Kasim Ii</td>\n",
       "      <td>Asia/Jakarta</td>\n",
       "      <td>PKU</td>\n",
       "      <td>WIBB</td>\n",
       "      <td>NaN</td>\n",
       "      <td>NaN</td>\n",
       "      <td>2023-05-09</td>\n",
       "      <td>08:25:00</td>\n",
       "      <td>2023-05-09</td>\n",
       "      <td>08:25:00</td>\n",
       "    </tr>\n",
       "  </tbody>\n",
       "</table>\n",
       "</div>"
      ],
      "text/plain": [
       "                  airport       timezone iata  icao terminal gate  \\\n",
       "0                  Fuzhou  Asia/Shanghai  FOC  ZSFZ        1  NaN   \n",
       "1                  Fuzhou  Asia/Shanghai  FOC  ZSFZ        1  NaN   \n",
       "2                  Fuzhou  Asia/Shanghai  FOC  ZSFZ        1  NaN   \n",
       "3                  Binaka   Asia/Jakarta  GNS  WIMB      NaN  NaN   \n",
       "4  Sultan Syarif Kasim Ii   Asia/Jakarta  PKU  WIBB      NaN  NaN   \n",
       "\n",
       "  scheduled_date scheduled_time estimated_date estimated_time  \n",
       "0     2023-05-09       10:10:00     2023-05-09       10:10:00  \n",
       "1     2023-05-09       10:10:00     2023-05-09       10:10:00  \n",
       "2     2023-05-09       10:10:00     2023-05-09       10:10:00  \n",
       "3     2023-05-09       08:00:00     2023-05-09       08:00:00  \n",
       "4     2023-05-09       08:25:00     2023-05-09       08:25:00  "
      ]
     },
     "execution_count": 49,
     "metadata": {},
     "output_type": "execute_result"
    }
   ],
   "source": [
    "arrival_df.head()"
   ]
  },
  {
   "cell_type": "code",
   "execution_count": 43,
   "id": "b89e426f",
   "metadata": {
    "scrolled": true
   },
   "outputs": [
    {
     "data": {
      "text/html": [
       "<div>\n",
       "<style scoped>\n",
       "    .dataframe tbody tr th:only-of-type {\n",
       "        vertical-align: middle;\n",
       "    }\n",
       "\n",
       "    .dataframe tbody tr th {\n",
       "        vertical-align: top;\n",
       "    }\n",
       "\n",
       "    .dataframe thead th {\n",
       "        text-align: right;\n",
       "    }\n",
       "</style>\n",
       "<table border=\"1\" class=\"dataframe\">\n",
       "  <thead>\n",
       "    <tr style=\"text-align: right;\">\n",
       "      <th></th>\n",
       "      <th>airport</th>\n",
       "      <th>timezone</th>\n",
       "      <th>iata</th>\n",
       "      <th>icao</th>\n",
       "      <th>terminal</th>\n",
       "      <th>gate</th>\n",
       "      <th>delay</th>\n",
       "      <th>scheduled_date</th>\n",
       "      <th>scheduled_time</th>\n",
       "      <th>estimated_date</th>\n",
       "      <th>estimated_time</th>\n",
       "    </tr>\n",
       "  </thead>\n",
       "  <tbody>\n",
       "    <tr>\n",
       "      <th>0</th>\n",
       "      <td>Chongqing Jiangbei International</td>\n",
       "      <td>Asia/Shanghai</td>\n",
       "      <td>CKG</td>\n",
       "      <td>ZUCK</td>\n",
       "      <td>T2</td>\n",
       "      <td>NaN</td>\n",
       "      <td>NaN</td>\n",
       "      <td>2023-05-09</td>\n",
       "      <td>08:00:00</td>\n",
       "      <td>2023-05-09</td>\n",
       "      <td>08:00:00</td>\n",
       "    </tr>\n",
       "    <tr>\n",
       "      <th>1</th>\n",
       "      <td>Chongqing Jiangbei International</td>\n",
       "      <td>Asia/Shanghai</td>\n",
       "      <td>CKG</td>\n",
       "      <td>ZUCK</td>\n",
       "      <td>T2</td>\n",
       "      <td>NaN</td>\n",
       "      <td>NaN</td>\n",
       "      <td>2023-05-09</td>\n",
       "      <td>08:00:00</td>\n",
       "      <td>2023-05-09</td>\n",
       "      <td>08:00:00</td>\n",
       "    </tr>\n",
       "    <tr>\n",
       "      <th>2</th>\n",
       "      <td>Chongqing Jiangbei International</td>\n",
       "      <td>Asia/Shanghai</td>\n",
       "      <td>CKG</td>\n",
       "      <td>ZUCK</td>\n",
       "      <td>T2</td>\n",
       "      <td>NaN</td>\n",
       "      <td>NaN</td>\n",
       "      <td>2023-05-09</td>\n",
       "      <td>08:00:00</td>\n",
       "      <td>2023-05-09</td>\n",
       "      <td>08:00:00</td>\n",
       "    </tr>\n",
       "    <tr>\n",
       "      <th>3</th>\n",
       "      <td>Polonia</td>\n",
       "      <td>Asia/Jakarta</td>\n",
       "      <td>KNO</td>\n",
       "      <td>WIMM</td>\n",
       "      <td>NaN</td>\n",
       "      <td>NaN</td>\n",
       "      <td>NaN</td>\n",
       "      <td>2023-05-09</td>\n",
       "      <td>07:01:00</td>\n",
       "      <td>2023-05-09</td>\n",
       "      <td>07:01:00</td>\n",
       "    </tr>\n",
       "    <tr>\n",
       "      <th>4</th>\n",
       "      <td>Polonia</td>\n",
       "      <td>Asia/Jakarta</td>\n",
       "      <td>KNO</td>\n",
       "      <td>WIMM</td>\n",
       "      <td>NaN</td>\n",
       "      <td>NaN</td>\n",
       "      <td>NaN</td>\n",
       "      <td>2023-05-09</td>\n",
       "      <td>07:00:00</td>\n",
       "      <td>2023-05-09</td>\n",
       "      <td>07:00:00</td>\n",
       "    </tr>\n",
       "  </tbody>\n",
       "</table>\n",
       "</div>"
      ],
      "text/plain": [
       "                            airport       timezone iata  icao terminal gate  \\\n",
       "0  Chongqing Jiangbei International  Asia/Shanghai  CKG  ZUCK       T2  NaN   \n",
       "1  Chongqing Jiangbei International  Asia/Shanghai  CKG  ZUCK       T2  NaN   \n",
       "2  Chongqing Jiangbei International  Asia/Shanghai  CKG  ZUCK       T2  NaN   \n",
       "3                           Polonia   Asia/Jakarta  KNO  WIMM      NaN  NaN   \n",
       "4                           Polonia   Asia/Jakarta  KNO  WIMM      NaN  NaN   \n",
       "\n",
       "  delay scheduled_date scheduled_time estimated_date estimated_time  \n",
       "0   NaN     2023-05-09       08:00:00     2023-05-09       08:00:00  \n",
       "1   NaN     2023-05-09       08:00:00     2023-05-09       08:00:00  \n",
       "2   NaN     2023-05-09       08:00:00     2023-05-09       08:00:00  \n",
       "3   NaN     2023-05-09       07:01:00     2023-05-09       07:01:00  \n",
       "4   NaN     2023-05-09       07:00:00     2023-05-09       07:00:00  "
      ]
     },
     "execution_count": 43,
     "metadata": {},
     "output_type": "execute_result"
    }
   ],
   "source": [
    "departure_df.head()"
   ]
  },
  {
   "cell_type": "code",
   "execution_count": 44,
   "id": "9583ef8e",
   "metadata": {},
   "outputs": [],
   "source": [
    "# 'Loading': export both files now that transformatin is done\n",
    "\n",
    "arrival_df.to_csv('arrival.csv',index=False)\n",
    "departure_df.to_csv('departure.csv',index=False)\n"
   ]
  },
  {
   "cell_type": "code",
   "execution_count": null,
   "id": "75b38c89",
   "metadata": {},
   "outputs": [],
   "source": [
    "# can just load datasets now and create the sql tables to work on them,\n",
    "# dont' need to run request again\n",
    "\n",
    "# for final, I would try to get somthign like 100 to 500 entries"
   ]
  },
  {
   "cell_type": "code",
   "execution_count": 7,
   "id": "6b2fed7d",
   "metadata": {},
   "outputs": [],
   "source": [
    "import pandas as pd\n",
    "import sqlite3\n",
    "departure_df = pd.read_csv(\"departure.csv\",header=0)\n",
    "arrival_df = pd.read_csv('arrival.csv',header=0)"
   ]
  },
  {
   "cell_type": "code",
   "execution_count": 45,
   "id": "d78f720a",
   "metadata": {},
   "outputs": [],
   "source": [
    "# there's nothing more I really want to do to these datasets\n",
    "# lets use sql to make some queries on some things we would like to know"
   ]
  },
  {
   "cell_type": "code",
   "execution_count": 9,
   "id": "a02fd9ed",
   "metadata": {},
   "outputs": [],
   "source": [
    "con = sqlite3.connect(\"airplane.db\")\n",
    "cur = con.cursor()"
   ]
  },
  {
   "cell_type": "code",
   "execution_count": 29,
   "id": "52e462de",
   "metadata": {
    "collapsed": true
   },
   "outputs": [
    {
     "ename": "OperationalError",
     "evalue": "table \"departure\" already exists",
     "output_type": "error",
     "traceback": [
      "\u001b[1;31m---------------------------------------------------------------------------\u001b[0m",
      "\u001b[1;31mOperationalError\u001b[0m                          Traceback (most recent call last)",
      "\u001b[1;32m<ipython-input-29-61ff154010bc>\u001b[0m in \u001b[0;36m<module>\u001b[1;34m\u001b[0m\n\u001b[1;32m----> 1\u001b[1;33m \u001b[0mdeparture_df\u001b[0m\u001b[1;33m.\u001b[0m\u001b[0mto_sql\u001b[0m\u001b[1;33m(\u001b[0m\u001b[1;34m\"departure\"\u001b[0m\u001b[1;33m,\u001b[0m\u001b[0mcon\u001b[0m\u001b[1;33m,\u001b[0m\u001b[0mif_exists\u001b[0m\u001b[1;33m=\u001b[0m\u001b[1;34m'replace'\u001b[0m\u001b[1;33m,\u001b[0m\u001b[0mindex\u001b[0m\u001b[1;33m=\u001b[0m\u001b[1;32mFalse\u001b[0m\u001b[1;33m)\u001b[0m\u001b[1;33m\u001b[0m\u001b[1;33m\u001b[0m\u001b[0m\n\u001b[0m\u001b[0;32m      2\u001b[0m \u001b[0marrival_df\u001b[0m\u001b[1;33m.\u001b[0m\u001b[0mto_sql\u001b[0m\u001b[1;33m(\u001b[0m\u001b[1;34m'arrival'\u001b[0m\u001b[1;33m,\u001b[0m\u001b[0mcon\u001b[0m\u001b[1;33m,\u001b[0m\u001b[0mif_exists\u001b[0m\u001b[1;33m=\u001b[0m\u001b[1;34m'replace'\u001b[0m\u001b[1;33m,\u001b[0m\u001b[0mindex\u001b[0m\u001b[1;33m=\u001b[0m\u001b[1;32mFalse\u001b[0m\u001b[1;33m)\u001b[0m\u001b[1;33m\u001b[0m\u001b[1;33m\u001b[0m\u001b[0m\n",
      "\u001b[1;32mc:\\users\\kamka\\appdata\\local\\programs\\python\\python39\\lib\\site-packages\\pandas\\core\\generic.py\u001b[0m in \u001b[0;36mto_sql\u001b[1;34m(self, name, con, schema, if_exists, index, index_label, chunksize, dtype, method)\u001b[0m\n\u001b[0;32m   2985\u001b[0m         \u001b[1;32mfrom\u001b[0m \u001b[0mpandas\u001b[0m\u001b[1;33m.\u001b[0m\u001b[0mio\u001b[0m \u001b[1;32mimport\u001b[0m \u001b[0msql\u001b[0m\u001b[1;33m\u001b[0m\u001b[1;33m\u001b[0m\u001b[0m\n\u001b[0;32m   2986\u001b[0m \u001b[1;33m\u001b[0m\u001b[0m\n\u001b[1;32m-> 2987\u001b[1;33m         return sql.to_sql(\n\u001b[0m\u001b[0;32m   2988\u001b[0m             \u001b[0mself\u001b[0m\u001b[1;33m,\u001b[0m\u001b[1;33m\u001b[0m\u001b[1;33m\u001b[0m\u001b[0m\n\u001b[0;32m   2989\u001b[0m             \u001b[0mname\u001b[0m\u001b[1;33m,\u001b[0m\u001b[1;33m\u001b[0m\u001b[1;33m\u001b[0m\u001b[0m\n",
      "\u001b[1;32mc:\\users\\kamka\\appdata\\local\\programs\\python\\python39\\lib\\site-packages\\pandas\\io\\sql.py\u001b[0m in \u001b[0;36mto_sql\u001b[1;34m(frame, name, con, schema, if_exists, index, index_label, chunksize, dtype, method, engine, **engine_kwargs)\u001b[0m\n\u001b[0;32m    693\u001b[0m         )\n\u001b[0;32m    694\u001b[0m \u001b[1;33m\u001b[0m\u001b[0m\n\u001b[1;32m--> 695\u001b[1;33m     return pandas_sql.to_sql(\n\u001b[0m\u001b[0;32m    696\u001b[0m         \u001b[0mframe\u001b[0m\u001b[1;33m,\u001b[0m\u001b[1;33m\u001b[0m\u001b[1;33m\u001b[0m\u001b[0m\n\u001b[0;32m    697\u001b[0m         \u001b[0mname\u001b[0m\u001b[1;33m,\u001b[0m\u001b[1;33m\u001b[0m\u001b[1;33m\u001b[0m\u001b[0m\n",
      "\u001b[1;32mc:\\users\\kamka\\appdata\\local\\programs\\python\\python39\\lib\\site-packages\\pandas\\io\\sql.py\u001b[0m in \u001b[0;36mto_sql\u001b[1;34m(self, frame, name, if_exists, index, index_label, schema, chunksize, dtype, method, **kwargs)\u001b[0m\n\u001b[0;32m   2185\u001b[0m             \u001b[0mdtype\u001b[0m\u001b[1;33m=\u001b[0m\u001b[0mdtype\u001b[0m\u001b[1;33m,\u001b[0m\u001b[1;33m\u001b[0m\u001b[1;33m\u001b[0m\u001b[0m\n\u001b[0;32m   2186\u001b[0m         )\n\u001b[1;32m-> 2187\u001b[1;33m         \u001b[0mtable\u001b[0m\u001b[1;33m.\u001b[0m\u001b[0mcreate\u001b[0m\u001b[1;33m(\u001b[0m\u001b[1;33m)\u001b[0m\u001b[1;33m\u001b[0m\u001b[1;33m\u001b[0m\u001b[0m\n\u001b[0m\u001b[0;32m   2188\u001b[0m         \u001b[1;32mreturn\u001b[0m \u001b[0mtable\u001b[0m\u001b[1;33m.\u001b[0m\u001b[0minsert\u001b[0m\u001b[1;33m(\u001b[0m\u001b[0mchunksize\u001b[0m\u001b[1;33m,\u001b[0m \u001b[0mmethod\u001b[0m\u001b[1;33m)\u001b[0m\u001b[1;33m\u001b[0m\u001b[1;33m\u001b[0m\u001b[0m\n\u001b[0;32m   2189\u001b[0m \u001b[1;33m\u001b[0m\u001b[0m\n",
      "\u001b[1;32mc:\\users\\kamka\\appdata\\local\\programs\\python\\python39\\lib\\site-packages\\pandas\\io\\sql.py\u001b[0m in \u001b[0;36mcreate\u001b[1;34m(self)\u001b[0m\n\u001b[0;32m    836\u001b[0m                 \u001b[1;32mraise\u001b[0m \u001b[0mValueError\u001b[0m\u001b[1;33m(\u001b[0m\u001b[1;34mf\"'{self.if_exists}' is not valid for if_exists\"\u001b[0m\u001b[1;33m)\u001b[0m\u001b[1;33m\u001b[0m\u001b[1;33m\u001b[0m\u001b[0m\n\u001b[0;32m    837\u001b[0m         \u001b[1;32melse\u001b[0m\u001b[1;33m:\u001b[0m\u001b[1;33m\u001b[0m\u001b[1;33m\u001b[0m\u001b[0m\n\u001b[1;32m--> 838\u001b[1;33m             \u001b[0mself\u001b[0m\u001b[1;33m.\u001b[0m\u001b[0m_execute_create\u001b[0m\u001b[1;33m(\u001b[0m\u001b[1;33m)\u001b[0m\u001b[1;33m\u001b[0m\u001b[1;33m\u001b[0m\u001b[0m\n\u001b[0m\u001b[0;32m    839\u001b[0m \u001b[1;33m\u001b[0m\u001b[0m\n\u001b[0;32m    840\u001b[0m     \u001b[1;32mdef\u001b[0m \u001b[0m_execute_insert\u001b[0m\u001b[1;33m(\u001b[0m\u001b[0mself\u001b[0m\u001b[1;33m,\u001b[0m \u001b[0mconn\u001b[0m\u001b[1;33m,\u001b[0m \u001b[0mkeys\u001b[0m\u001b[1;33m:\u001b[0m \u001b[0mlist\u001b[0m\u001b[1;33m[\u001b[0m\u001b[0mstr\u001b[0m\u001b[1;33m]\u001b[0m\u001b[1;33m,\u001b[0m \u001b[0mdata_iter\u001b[0m\u001b[1;33m)\u001b[0m \u001b[1;33m->\u001b[0m \u001b[0mint\u001b[0m\u001b[1;33m:\u001b[0m\u001b[1;33m\u001b[0m\u001b[1;33m\u001b[0m\u001b[0m\n",
      "\u001b[1;32mc:\\users\\kamka\\appdata\\local\\programs\\python\\python39\\lib\\site-packages\\pandas\\io\\sql.py\u001b[0m in \u001b[0;36m_execute_create\u001b[1;34m(self)\u001b[0m\n\u001b[0;32m   1869\u001b[0m         \u001b[1;32mwith\u001b[0m \u001b[0mself\u001b[0m\u001b[1;33m.\u001b[0m\u001b[0mpd_sql\u001b[0m\u001b[1;33m.\u001b[0m\u001b[0mrun_transaction\u001b[0m\u001b[1;33m(\u001b[0m\u001b[1;33m)\u001b[0m \u001b[1;32mas\u001b[0m \u001b[0mconn\u001b[0m\u001b[1;33m:\u001b[0m\u001b[1;33m\u001b[0m\u001b[1;33m\u001b[0m\u001b[0m\n\u001b[0;32m   1870\u001b[0m             \u001b[1;32mfor\u001b[0m \u001b[0mstmt\u001b[0m \u001b[1;32min\u001b[0m \u001b[0mself\u001b[0m\u001b[1;33m.\u001b[0m\u001b[0mtable\u001b[0m\u001b[1;33m:\u001b[0m\u001b[1;33m\u001b[0m\u001b[1;33m\u001b[0m\u001b[0m\n\u001b[1;32m-> 1871\u001b[1;33m                 \u001b[0mconn\u001b[0m\u001b[1;33m.\u001b[0m\u001b[0mexecute\u001b[0m\u001b[1;33m(\u001b[0m\u001b[0mstmt\u001b[0m\u001b[1;33m)\u001b[0m\u001b[1;33m\u001b[0m\u001b[1;33m\u001b[0m\u001b[0m\n\u001b[0m\u001b[0;32m   1872\u001b[0m \u001b[1;33m\u001b[0m\u001b[0m\n\u001b[0;32m   1873\u001b[0m     \u001b[1;32mdef\u001b[0m \u001b[0minsert_statement\u001b[0m\u001b[1;33m(\u001b[0m\u001b[0mself\u001b[0m\u001b[1;33m,\u001b[0m \u001b[1;33m*\u001b[0m\u001b[1;33m,\u001b[0m \u001b[0mnum_rows\u001b[0m\u001b[1;33m:\u001b[0m \u001b[0mint\u001b[0m\u001b[1;33m)\u001b[0m \u001b[1;33m->\u001b[0m \u001b[0mstr\u001b[0m\u001b[1;33m:\u001b[0m\u001b[1;33m\u001b[0m\u001b[1;33m\u001b[0m\u001b[0m\n",
      "\u001b[1;31mOperationalError\u001b[0m: table \"departure\" already exists"
     ]
    }
   ],
   "source": [
    "departure_df.to_sql(\"departure\",con,if_exists='replace',index=False)\n",
    "arrival_df.to_sql('arrival',con,if_exists='replace',index=False)"
   ]
  },
  {
   "cell_type": "code",
   "execution_count": 50,
   "id": "164d52fe",
   "metadata": {},
   "outputs": [],
   "source": [
    "# change time zone from continent/city to two different columns\n",
    "# pull specific terminal/continent entries\n",
    "# pull flight from certain times\n",
    "# done - work on annother project"
   ]
  },
  {
   "cell_type": "code",
   "execution_count": 62,
   "id": "7d7bcf5a",
   "metadata": {
    "scrolled": true
   },
   "outputs": [
    {
     "ename": "OperationalError",
     "evalue": "near \"=\": syntax error",
     "output_type": "error",
     "traceback": [
      "\u001b[1;31m---------------------------------------------------------------------------\u001b[0m",
      "\u001b[1;31mOperationalError\u001b[0m                          Traceback (most recent call last)",
      "\u001b[1;32m<ipython-input-62-0372c4d2a568>\u001b[0m in \u001b[0;36m<module>\u001b[1;34m\u001b[0m\n\u001b[0;32m      5\u001b[0m \u001b[1;31m# rename timezone to continent\u001b[0m\u001b[1;33m\u001b[0m\u001b[1;33m\u001b[0m\u001b[1;33m\u001b[0m\u001b[0m\n\u001b[0;32m      6\u001b[0m \u001b[1;31m# change continent values to substring, to only contain continent\u001b[0m\u001b[1;33m\u001b[0m\u001b[1;33m\u001b[0m\u001b[1;33m\u001b[0m\u001b[0m\n\u001b[1;32m----> 7\u001b[1;33m \u001b[0mcur\u001b[0m\u001b[1;33m.\u001b[0m\u001b[0mexecute\u001b[0m\u001b[1;33m(\u001b[0m\u001b[1;34m\"alter table arrival add city =  substr(continent, instr(continent,'/')+1)\"\u001b[0m\u001b[1;33m)\u001b[0m\u001b[1;33m\u001b[0m\u001b[1;33m\u001b[0m\u001b[0m\n\u001b[0m\u001b[0;32m      8\u001b[0m \u001b[1;33m\u001b[0m\u001b[0m\n\u001b[0;32m      9\u001b[0m \u001b[1;31m#cur.execute('alter table departure rename column timezone to continent')\u001b[0m\u001b[1;33m\u001b[0m\u001b[1;33m\u001b[0m\u001b[1;33m\u001b[0m\u001b[0m\n",
      "\u001b[1;31mOperationalError\u001b[0m: near \"=\": syntax error"
     ]
    }
   ],
   "source": [
    "# split the timezone into continent and city\n",
    "\n",
    "# departure\n",
    "# create city column and take substring from timezone\n",
    "# rename timezone to continent\n",
    "# change continent values to substring, to only contain continent\n",
    "cur.execute(\"select timezone trim(substr(timezone, instr(timezone,'/')+1)) as city from departure\")\n",
    "\n",
    "#cur.execute('alter table departure rename column timezone to continent')\n",
    "\n",
    "#cur.execute(\"update departure set continent = substr(continent, 1, instr(continent,'/')-1)\")\n",
    "\n"
   ]
  },
  {
   "cell_type": "code",
   "execution_count": 60,
   "id": "8559325d",
   "metadata": {},
   "outputs": [
    {
     "ename": "OperationalError",
     "evalue": "no such column: timezone",
     "output_type": "error",
     "traceback": [
      "\u001b[1;31m---------------------------------------------------------------------------\u001b[0m",
      "\u001b[1;31mOperationalError\u001b[0m                          Traceback (most recent call last)",
      "\u001b[1;32m<ipython-input-60-5f0ae57790b8>\u001b[0m in \u001b[0;36m<module>\u001b[1;34m\u001b[0m\n\u001b[0;32m      1\u001b[0m \u001b[1;31m# do same thing for arrival\u001b[0m\u001b[1;33m\u001b[0m\u001b[1;33m\u001b[0m\u001b[1;33m\u001b[0m\u001b[0m\n\u001b[1;32m----> 2\u001b[1;33m \u001b[0mcur\u001b[0m\u001b[1;33m.\u001b[0m\u001b[0mexecute\u001b[0m\u001b[1;33m(\u001b[0m\u001b[1;34m\"select timezone, trim(substr(timezone, instr(timezone,'/')+1)) as city from arrival\"\u001b[0m\u001b[1;33m)\u001b[0m\u001b[1;33m\u001b[0m\u001b[1;33m\u001b[0m\u001b[0m\n\u001b[0m\u001b[0;32m      3\u001b[0m \u001b[1;33m\u001b[0m\u001b[0m\n\u001b[0;32m      4\u001b[0m \u001b[0mcur\u001b[0m\u001b[1;33m.\u001b[0m\u001b[0mexecute\u001b[0m\u001b[1;33m(\u001b[0m\u001b[1;34m'alter table arrival rename column timezone to continent'\u001b[0m\u001b[1;33m)\u001b[0m\u001b[1;33m\u001b[0m\u001b[1;33m\u001b[0m\u001b[0m\n\u001b[0;32m      5\u001b[0m \u001b[1;33m\u001b[0m\u001b[0m\n",
      "\u001b[1;31mOperationalError\u001b[0m: no such column: timezone"
     ]
    }
   ],
   "source": [
    "# do same thing for arrival\n",
    "cur.execute(\"select timezone, trim(substr(timezone, instr(timezone,'/')+1)) as city from arrival\")\n",
    "\n",
    "cur.execute('alter table arrival rename column timezone to continent')\n",
    "\n",
    "cur.execute(\"update arrival set continent = substr(continent, 1, instr(continent,'/')-1)\")"
   ]
  },
  {
   "cell_type": "code",
   "execution_count": 61,
   "id": "db5bf43c",
   "metadata": {},
   "outputs": [
    {
     "ename": "OperationalError",
     "evalue": "no such column: city",
     "output_type": "error",
     "traceback": [
      "\u001b[1;31m---------------------------------------------------------------------------\u001b[0m",
      "\u001b[1;31mOperationalError\u001b[0m                          Traceback (most recent call last)",
      "\u001b[1;32m<ipython-input-61-1843ff10597e>\u001b[0m in \u001b[0;36m<module>\u001b[1;34m\u001b[0m\n\u001b[1;32m----> 1\u001b[1;33m \u001b[0mcur\u001b[0m\u001b[1;33m.\u001b[0m\u001b[0mexecute\u001b[0m\u001b[1;33m(\u001b[0m\u001b[1;34m\"\"\"select city from departure\"\"\"\u001b[0m\u001b[1;33m)\u001b[0m\u001b[1;33m.\u001b[0m\u001b[0mfetchall\u001b[0m\u001b[1;33m(\u001b[0m\u001b[1;33m)\u001b[0m\u001b[1;33m\u001b[0m\u001b[1;33m\u001b[0m\u001b[0m\n\u001b[0m",
      "\u001b[1;31mOperationalError\u001b[0m: no such column: city"
     ]
    }
   ],
   "source": [
    "cur.execute(\"\"\"select city from departure\"\"\").fetchall()"
   ]
  },
  {
   "cell_type": "code",
   "execution_count": null,
   "id": "52d36c51",
   "metadata": {},
   "outputs": [],
   "source": []
  },
  {
   "cell_type": "code",
   "execution_count": 25,
   "id": "6215a06e",
   "metadata": {},
   "outputs": [
    {
     "ename": "OperationalError",
     "evalue": "near \",\": syntax error",
     "output_type": "error",
     "traceback": [
      "\u001b[1;31m---------------------------------------------------------------------------\u001b[0m",
      "\u001b[1;31mOperationalError\u001b[0m                          Traceback (most recent call last)",
      "\u001b[1;32m<ipython-input-25-aef1e4c43e55>\u001b[0m in \u001b[0;36m<module>\u001b[1;34m\u001b[0m\n\u001b[0;32m      1\u001b[0m \u001b[1;31m# drop the original column\u001b[0m\u001b[1;33m\u001b[0m\u001b[1;33m\u001b[0m\u001b[1;33m\u001b[0m\u001b[0m\n\u001b[1;32m----> 2\u001b[1;33m \u001b[0mcur\u001b[0m\u001b[1;33m.\u001b[0m\u001b[0mexecute\u001b[0m\u001b[1;33m(\u001b[0m\u001b[1;34m'alter table departure, drop column timezone;'\u001b[0m\u001b[1;33m)\u001b[0m\u001b[1;33m\u001b[0m\u001b[1;33m\u001b[0m\u001b[0m\n\u001b[0m",
      "\u001b[1;31mOperationalError\u001b[0m: near \",\": syntax error"
     ]
    }
   ],
   "source": [
    "# drop the original column\n",
    "# sqlite has limited functionality when it comes to dropping and adding columns\n",
    "\n",
    "cur.execute(\"\"\"CREATE TABL t1_backup AS SELECT a, b FROM t1;\n",
    "DROP TABLE t1;\n",
    "ALTER TABLE t1_backup RENAME TO t1\"\"\")\n",
    "\n",
    "cur.execute(\"\"\"create table dept_backup as select\"\"\")\n"
   ]
  },
  {
   "cell_type": "code",
   "execution_count": 26,
   "id": "575300ea",
   "metadata": {},
   "outputs": [
    {
     "ename": "OperationalError",
     "evalue": "near \"drop\": syntax error",
     "output_type": "error",
     "traceback": [
      "\u001b[1;31m---------------------------------------------------------------------------\u001b[0m",
      "\u001b[1;31mOperationalError\u001b[0m                          Traceback (most recent call last)",
      "\u001b[1;32m<ipython-input-26-7696d759233c>\u001b[0m in \u001b[0;36m<module>\u001b[1;34m\u001b[0m\n\u001b[1;32m----> 1\u001b[1;33m \u001b[0mcur\u001b[0m\u001b[1;33m.\u001b[0m\u001b[0mexecute\u001b[0m\u001b[1;33m(\u001b[0m\u001b[1;34m'alter table departure drop timezone'\u001b[0m\u001b[1;33m)\u001b[0m\u001b[1;33m\u001b[0m\u001b[1;33m\u001b[0m\u001b[0m\n\u001b[0m",
      "\u001b[1;31mOperationalError\u001b[0m: near \"drop\": syntax error"
     ]
    }
   ],
   "source": [
    "cur.execute(\"\"\"create view ViewName as\n",
    "select col1, col2, col3, .... \n",
    "    FROM tableName\"\"\")"
   ]
  },
  {
   "cell_type": "code",
   "execution_count": 17,
   "id": "6edfd98c",
   "metadata": {},
   "outputs": [
    {
     "name": "stdout",
     "output_type": "stream",
     "text": [
      "[('Chongqing Jiangbei International', 'Asia/Shanghai', 'CKG', 'ZUCK', 'T2', None, None, '2023-05-09', '08:00:00', '2023-05-09', '08:00:00'), ('Chongqing Jiangbei International', 'Asia/Shanghai', 'CKG', 'ZUCK', 'T2', None, None, '2023-05-09', '08:00:00', '2023-05-09', '08:00:00'), ('Chongqing Jiangbei International', 'Asia/Shanghai', 'CKG', 'ZUCK', 'T2', None, None, '2023-05-09', '08:00:00', '2023-05-09', '08:00:00'), ('Polonia', 'Asia/Jakarta', 'KNO', 'WIMM', None, None, None, '2023-05-09', '07:01:00', '2023-05-09', '07:01:00'), ('Polonia', 'Asia/Jakarta', 'KNO', 'WIMM', None, None, None, '2023-05-09', '07:00:00', '2023-05-09', '07:00:00'), ('Polonia', 'Asia/Jakarta', 'KNO', 'WIMM', None, None, None, '2023-05-09', '06:30:00', '2023-05-09', '06:30:00'), ('Polonia', 'Asia/Jakarta', 'KNO', 'WIMM', None, None, None, '2023-05-09', '06:00:00', '2023-05-09', '06:00:00'), ('Polonia', 'Asia/Jakarta', 'KNO', 'WIMM', None, None, None, '2023-05-09', '05:40:00', '2023-05-09', '05:40:00'), ('Polonia', 'Asia/Jakarta', 'KNO', 'WIMM', None, None, None, '2023-05-09', '05:40:00', '2023-05-09', '05:40:00'), ('Doha International', 'Asia/Qatar', 'DOH', 'OTHH', None, 'C34', None, '2023-05-09', '01:20:00', '2023-05-09', '01:20:00'), ('Doha International', 'Asia/Qatar', 'DOH', 'OTHH', None, 'C34', None, '2023-05-09', '01:20:00', '2023-05-09', '01:20:00'), ('Doha International', 'Asia/Qatar', 'DOH', 'OTHH', None, 'C34', None, '2023-05-09', '01:20:00', '2023-05-09', '01:20:00'), ('Doha International', 'Asia/Qatar', 'DOH', 'OTHH', None, 'C34', None, '2023-05-09', '01:20:00', '2023-05-09', '01:20:00'), ('Doha International', 'Asia/Qatar', 'DOH', 'OTHH', None, 'C34', None, '2023-05-09', '01:20:00', '2023-05-09', '01:20:00'), ('Doha International', 'Asia/Qatar', 'DOH', 'OTHH', None, 'C34', None, '2023-05-09', '01:20:00', '2023-05-09', '01:20:00'), ('Doha International', 'Asia/Qatar', 'DOH', 'OTHH', None, 'C34', None, '2023-05-09', '01:20:00', '2023-05-09', '01:20:00'), ('Doha International', 'Asia/Qatar', 'DOH', 'OTHH', None, 'B7', 10.0, '2023-05-09', '01:20:00', '2023-05-09', '01:20:00'), ('Doha International', 'Asia/Qatar', 'DOH', 'OTHH', None, 'C8', None, '2023-05-09', '01:20:00', '2023-05-09', '01:20:00'), ('Doha International', 'Asia/Qatar', 'DOH', 'OTHH', None, 'C8', None, '2023-05-09', '01:20:00', '2023-05-09', '01:20:00'), ('Doha International', 'Asia/Qatar', 'DOH', 'OTHH', None, 'C23', None, '2023-05-09', '01:10:00', '2023-05-09', '01:10:00'), ('Doha International', 'Asia/Qatar', 'DOH', 'OTHH', None, 'C23', None, '2023-05-09', '01:10:00', '2023-05-09', '01:10:00'), ('Doha International', 'Asia/Qatar', 'DOH', 'OTHH', None, 'C19', None, '2023-05-09', '01:05:00', '2023-05-09', '01:05:00'), ('Doha International', 'Asia/Qatar', 'DOH', 'OTHH', None, 'C19', None, '2023-05-09', '01:05:00', '2023-05-09', '01:05:00'), ('Doha International', 'Asia/Qatar', 'DOH', 'OTHH', None, 'C19', None, '2023-05-09', '01:05:00', '2023-05-09', '01:05:00'), ('Axamo', 'Europe/Stockholm', 'JKG', 'ESGJ', None, None, None, '2023-05-09', '01:30:00', '2023-05-09', '01:30:00'), ('Doha International', 'Asia/Qatar', 'DOH', 'OTHH', None, 'C88', None, '2023-05-09', '01:05:00', '2023-05-09', '01:05:00'), ('Doha International', 'Asia/Qatar', 'DOH', 'OTHH', None, 'B3', 10.0, '2023-05-09', '01:05:00', '2023-05-09', '01:05:00'), ('Sulaimaniyah International', 'Asia/Baghdad', 'ISU', 'ORSU', None, None, None, '2023-05-09', '04:25:00', '2023-05-09', '04:25:00'), ('Doha International', 'Asia/Qatar', 'DOH', 'OTHH', None, 'B3', 10.0, '2023-05-09', '01:05:00', '2023-05-09', '01:05:00'), ('Fuzhou', 'Asia/Shanghai', 'FOC', 'ZSFZ', None, None, None, '2023-05-09', '11:00:00', '2023-05-09', '11:00:00')]\n"
     ]
    }
   ],
   "source": [
    "# pull the two columns \n"
   ]
  }
 ],
 "metadata": {
  "kernelspec": {
   "display_name": "Python 3",
   "language": "python",
   "name": "python3"
  },
  "language_info": {
   "codemirror_mode": {
    "name": "ipython",
    "version": 3
   },
   "file_extension": ".py",
   "mimetype": "text/x-python",
   "name": "python",
   "nbconvert_exporter": "python",
   "pygments_lexer": "ipython3",
   "version": "3.9.3"
  }
 },
 "nbformat": 4,
 "nbformat_minor": 5
}
